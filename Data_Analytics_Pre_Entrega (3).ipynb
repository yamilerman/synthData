{
  "nbformat": 4,
  "nbformat_minor": 0,
  "metadata": {
    "colab": {
      "provenance": []
    },
    "kernelspec": {
      "name": "python3",
      "display_name": "Python 3"
    },
    "language_info": {
      "name": "python"
    }
  },
  "cells": [
    {
      "cell_type": "markdown",
      "source": [
        "## **TPI Data Analytics - Yamila Lerman**\n",
        "\n",
        "#📋 CONFIGURACIÓN INICIAL\n",
        "\n",
        "- Cargar librerías.\n",
        "- Cargar los datasets.\n",
        "\n",
        "\n"
      ],
      "metadata": {
        "id": "jQk_NrNgUo2S"
      }
    },
    {
      "cell_type": "code",
      "source": [
        "import pandas as pd\n",
        "import numpy as np\n",
        "\n",
        "ventas_df = pd.read_csv('/content/drive/MyDrive/Portfolio_DataAnalyst_Yamila_Lerman/Análisis-de-datos-c-Python/LermanYamila-Comisión25261-TPIDataAnalytics/Datasets/ventas.csv')\n",
        "clientes_df = pd.read_csv('/content/drive/MyDrive/Portfolio_DataAnalyst_Yamila_Lerman/Análisis-de-datos-c-Python/LermanYamila-Comisión25261-TPIDataAnalytics/Datasets/clientes.csv')\n",
        "marketing_df = pd.read_csv('/content/drive/MyDrive/Portfolio_DataAnalyst_Yamila_Lerman/Análisis-de-datos-c-Python/LermanYamila-Comisión25261-TPIDataAnalytics/Datasets/marketing.csv')\n",
        "\n",
        "print(\"✅ Datasets cargados exitosamente\")\n",
        "print(f\"Ventas: {len(ventas_df)} registros\")\n",
        "print(f\"Clientes: {len(clientes_df)} registros\")\n",
        "print(f\"Marketing: {len(marketing_df)} registros\")"
      ],
      "metadata": {
        "id": "tQZQ_r_AU1XN",
        "colab": {
          "base_uri": "https://localhost:8080/"
        },
        "outputId": "68d9381f-9418-4490-c771-10a6659ad656"
      },
      "execution_count": null,
      "outputs": [
        {
          "output_type": "stream",
          "name": "stdout",
          "text": [
            "✅ Datasets cargados exitosamente\n",
            "Ventas: 3035 registros\n",
            "Clientes: 567 registros\n",
            "Marketing: 90 registros\n"
          ]
        }
      ]
    },
    {
      "cell_type": "markdown",
      "source": [
        "# 🔹 ETAPA 1: RECOPILACIÓN Y PREPARACIÓN DE DATOS\n",
        "\n"
      ],
      "metadata": {
        "id": "7CHhfe22UwPy"
      }
    },
    {
      "cell_type": "markdown",
      "source": [
        "Limpieza de datos, calculo de Ventas Mensuales y por Producto:\n",
        "1. El programa verifica los tipos de datos que tenemos en el dataset ventas.\n",
        "2. Calcula la venta total\n",
        "3. Convierte fecha a datetime\n",
        "4. Verifica con if si hay valores nulos en fecha_venta\n",
        "5. Calcula las ventas mensuales\n",
        "6. Calcula las ventas por producto\n"
      ],
      "metadata": {
        "id": "kL_pyJ510q9g"
      }
    },
    {
      "cell_type": "code",
      "source": [
        "print(\"Tipos de datos de las columnas:\")\n",
        "print(ventas_df.dtypes)"
      ],
      "metadata": {
        "colab": {
          "base_uri": "https://localhost:8080/"
        },
        "id": "BwPAvVTNgnQI",
        "outputId": "7370f213-a6fe-41d8-d6f9-b28e54ac1df5"
      },
      "execution_count": null,
      "outputs": [
        {
          "output_type": "stream",
          "name": "stdout",
          "text": [
            "Tipos de datos de las columnas:\n",
            "id_venta         int64\n",
            "producto        object\n",
            "precio          object\n",
            "cantidad       float64\n",
            "fecha_venta     object\n",
            "categoria       object\n",
            "dtype: object\n"
          ]
        }
      ]
    },
    {
      "cell_type": "code",
      "source": [
        "ventas_df['precio'] = ventas_df['precio'].str.replace('$', '').str.replace(',', '').astype(float)\n",
        "\n",
        "# 2. CREAR VENTA_TOTAL DESPUÉS DE CONVERTIR PRECIO\n",
        "ventas_df['venta_total'] = ventas_df['precio'] * ventas_df['cantidad']\n",
        "\n",
        "# 3. CONVERTIR FECHA\n",
        "ventas_df['fecha_venta'] = pd.to_datetime(ventas_df['fecha_venta'], errors='coerce')\n",
        "\n",
        "# 4. ELIMINAR REGISTROS CON FECHAS INVÁLIDAS\n",
        "if ventas_df['fecha_venta'].isnull().any():\n",
        "    print(\"⚠️ Advertencia: Hay fechas que no pudieron ser convertidas. Se eliminarán estos registros.\")\n",
        "    ventas_df = ventas_df.dropna(subset=['fecha_venta'])\n",
        "\n",
        "print(\"✅ CONVERSIONES COMPLETADAS\")\n",
        "print(f\"Tipos de datos actualizados:\")\n",
        "print(ventas_df.dtypes)"
      ],
      "metadata": {
        "colab": {
          "base_uri": "https://localhost:8080/"
        },
        "id": "-UiHf0KWibNO",
        "outputId": "8dee5c15-52f6-42ff-8c7e-a34dba403ca6"
      },
      "execution_count": 25,
      "outputs": [
        {
          "output_type": "stream",
          "name": "stdout",
          "text": [
            "⚠️ Advertencia: Hay fechas que no pudieron ser convertidas. Se eliminarán estos registros.\n",
            "✅ CONVERSIONES COMPLETADAS\n",
            "Tipos de datos actualizados:\n",
            "id_venta                int64\n",
            "producto               object\n",
            "precio                float64\n",
            "cantidad              float64\n",
            "fecha_venta    datetime64[ns]\n",
            "categoria              object\n",
            "venta_total           float64\n",
            "dtype: object\n"
          ]
        }
      ]
    },
    {
      "cell_type": "code",
      "source": [
        "print(\"💳 RESUMEN DE VENTAS POR PRODUCTO:\")\n",
        "print(\"=\" * 45)\n",
        "ventas_por_producto = ventas_df.groupby('producto').agg({\n",
        "    'cantidad': 'sum',\n",
        "    'venta_total': 'sum'\n",
        "}).sort_values('venta_total', ascending=False)\n",
        "\n",
        "print(ventas_por_producto)"
      ],
      "metadata": {
        "colab": {
          "base_uri": "https://localhost:8080/"
        },
        "id": "Zq7jtVBitORO",
        "outputId": "ac398304-bf44-4918-d3ac-4b1634358bb2"
      },
      "execution_count": 26,
      "outputs": [
        {
          "output_type": "stream",
          "name": "stdout",
          "text": [
            "💳 RESUMEN DE VENTAS POR PRODUCTO:\n",
            "=============================================\n",
            "                        cantidad  venta_total\n",
            "producto                                     \n",
            "Auriculares                395.0     33126.87\n",
            "Lámpara de mesa            439.0     32901.91\n",
            "Microondas                 307.0     25593.56\n",
            "SmartWatch                 311.0     23535.69\n",
            "Smartphone                 255.0     22664.16\n",
            "Batidora                   315.0     22358.79\n",
            "Plancha de vapor           317.0     21761.04\n",
            "Secadora                   313.0     21640.83\n",
            "Cafetera                   285.0     21196.70\n",
            "Elementos de cerámica      255.0     21099.14\n",
            "Proyector                  281.0     20848.63\n",
            "Adorno de pared            295.0     20810.59\n",
            "Cuadro decorativo          287.0     20720.84\n",
            "Laptop                     254.0     20705.19\n",
            "Cortinas                   273.0     20579.21\n",
            "Jarrón decorativo          287.0     20432.32\n",
            "Aspiradora                 260.0     20166.93\n",
            "Consola de videojuegos     255.0     19995.71\n",
            "Rincón de plantas          278.0     19002.03\n",
            "Alfombra                   265.0     18985.65\n",
            "Lavadora                   255.0     18399.03\n",
            "Horno eléctrico            253.0     17620.72\n",
            "Espejo decorativo          257.0     17170.89\n",
            "Freidora eléctrica         223.0     16697.02\n",
            "Televisor                  218.0     16663.50\n",
            "Cámara digital             196.0     13348.22\n",
            "Parlantes Bluetooth        171.0     13078.45\n",
            "Heladera                   121.0      9482.73\n",
            "Tablet                     141.0      8869.23\n",
            "Candelabro                  59.0      3521.64\n"
          ]
        }
      ]
    },
    {
      "cell_type": "markdown",
      "source": [
        "Estructuras de Datos:\n",
        "\n",
        "- Usaremos DICCIONARIOS para almacenar datos de ventas y mostramos un ejemplo.\n",
        "- El sistema muestra los primeros 5 registros del diccionario.\n",
        "- Agregamos una justificación de la decisión para estructurar los datos.\n"
      ],
      "metadata": {
        "id": "fd_d8v89tpMW"
      }
    },
    {
      "cell_type": "code",
      "source": [
        "print(\"📊 ESTRUCTURAS DE DATOS\")\n",
        "print(\"=\" * 45)\n",
        "\n",
        "ventas_dict = {\n",
        "    'productos': ventas_df['producto'].tolist(),\n",
        "    'precios': ventas_df['precio'].tolist(),\n",
        "    'cantidades': ventas_df['cantidad'].tolist(),\n",
        "    'ventas_totales': ventas_df['venta_total'].tolist(),\n",
        "    'categorias': ventas_df['categoria'].tolist()\n",
        "}\n",
        "\n",
        "print(\"🛒 EJEMPLO DE DICCIONARIO DE VENTAS:\")\n",
        "print(f\"Total de registros almacenados: {len(ventas_dict['productos'])}\")\n",
        "print(f\"Productos únicos: {len(set(ventas_dict['productos']))}\")\n",
        "print(\"\\n📋 MUESTRA DE DATOS EN DICCIONARIO (primeros 5):\")\n",
        "for i in range(5):\n",
        "    print(f\"• {ventas_dict['productos'][i]} | ${ventas_dict['precios'][i]} x {ventas_dict['cantidades'][i]} = ${ventas_dict['ventas_totales'][i]:.2f} | {ventas_dict['categorias'][i]}\")\n",
        "\n",
        "print(f\"\\n💡 JUSTIFICACIÓN: Usamos DICCIONARIOS porque:\")\n",
        "print(\"  • Son más eficientes para datos estructurados\")\n",
        "print(\"  • Permiten acceso rápido por clave\")\n",
        "print(\"  • Facilitan la organización de datos relacionados\")\n",
        "print(\"  • Son ideales para este tipo de análisis de ventas\")"
      ],
      "metadata": {
        "colab": {
          "base_uri": "https://localhost:8080/"
        },
        "id": "nghcq2XHunr4",
        "outputId": "0d777979-73a2-434f-b48b-d69e06a41a87"
      },
      "execution_count": 27,
      "outputs": [
        {
          "output_type": "stream",
          "name": "stdout",
          "text": [
            "📊 ESTRUCTURAS DE DATOS\n",
            "=============================================\n",
            "🛒 EJEMPLO DE DICCIONARIO DE VENTAS:\n",
            "Total de registros almacenados: 1189\n",
            "Productos únicos: 30\n",
            "\n",
            "📋 MUESTRA DE DATOS EN DICCIONARIO (primeros 5):\n",
            "• Cuadro decorativo | $69.94 x 5.0 = $349.70 | Decoración\n",
            "• Lámpara de mesa | $105.1 x 5.0 = $525.50 | Decoración\n",
            "• Secadora | $97.96 x 3.0 = $293.88 | Electrodomésticos\n",
            "• Heladera | $114.35 x 8.0 = $914.80 | Electrodomésticos\n",
            "• Secadora | $106.21 x 4.0 = $424.84 | Electrodomésticos\n",
            "\n",
            "💡 JUSTIFICACIÓN: Usamos DICCIONARIOS porque:\n",
            "  • Son más eficientes para datos estructurados\n",
            "  • Permiten acceso rápido por clave\n",
            "  • Facilitan la organización de datos relacionados\n",
            "  • Son ideales para este tipo de análisis de ventas\n"
          ]
        }
      ]
    },
    {
      "cell_type": "markdown",
      "source": [
        "Análisis Exploratorio con Pandas:\n",
        "1. Mostramos la información genral del dataset ventas.\n",
        "2. Mostramos la información estructural.\n",
        "3. El sistema muestra estadísticas descriptivas."
      ],
      "metadata": {
        "id": "07F03o20wMT0"
      }
    },
    {
      "cell_type": "code",
      "source": [
        "print(\"\\n🔍 ACTIVIDAD 4: ANÁLISIS EXPLORATORIO CON PANDAS\")\n",
        "print(\"=\" * 55)\n",
        "\n",
        "print(\"DATASET DE VENTAS - INFORMACIÓN GENERAL\")\n",
        "print(\"=\" * 55)\n",
        "print(ventas_df.head(8))\n",
        "\n",
        "print(\"\\nINFORMACIÓN ESTRUCTURAL:\")\n",
        "print(ventas_df.info())\n",
        "\n",
        "print(\"\\nESTADÍSTICAS DESCRIPTIVAS - VENTAS:\")\n",
        "print(ventas_df[['precio', 'cantidad', 'venta_total']].describe())\n"
      ],
      "metadata": {
        "colab": {
          "base_uri": "https://localhost:8080/"
        },
        "id": "EidNgKsCwV6D",
        "outputId": "d642b54f-922f-44a2-9827-e69fd1685643"
      },
      "execution_count": 28,
      "outputs": [
        {
          "output_type": "stream",
          "name": "stdout",
          "text": [
            "\n",
            "🔍 ACTIVIDAD 4: ANÁLISIS EXPLORATORIO CON PANDAS\n",
            "=======================================================\n",
            "DATASET DE VENTAS - INFORMACIÓN GENERAL\n",
            "=======================================================\n",
            "   id_venta           producto  precio  cantidad fecha_venta  \\\n",
            "0       792  Cuadro decorativo   69.94       5.0  2024-02-01   \n",
            "1       811    Lámpara de mesa  105.10       5.0  2024-02-01   \n",
            "2      1156           Secadora   97.96       3.0  2024-02-01   \n",
            "3      1372           Heladera  114.35       8.0  2024-02-01   \n",
            "4      1546           Secadora  106.21       4.0  2024-02-01   \n",
            "5      1697    Horno eléctrico   35.35       9.0  2024-02-01   \n",
            "6      1710   Plancha de vapor   65.43       2.0  2024-02-01   \n",
            "7      2959          Proyector   88.17       9.0  2024-02-01   \n",
            "\n",
            "           categoria  venta_total  \n",
            "0         Decoración       349.70  \n",
            "1         Decoración       525.50  \n",
            "2  Electrodomésticos       293.88  \n",
            "3  Electrodomésticos       914.80  \n",
            "4  Electrodomésticos       424.84  \n",
            "5  Electrodomésticos       318.15  \n",
            "6  Electrodomésticos       130.86  \n",
            "7        Electrónica       793.53  \n",
            "\n",
            "INFORMACIÓN ESTRUCTURAL:\n",
            "<class 'pandas.core.frame.DataFrame'>\n",
            "Index: 1189 entries, 0 to 2888\n",
            "Data columns (total 7 columns):\n",
            " #   Column       Non-Null Count  Dtype         \n",
            "---  ------       --------------  -----         \n",
            " 0   id_venta     1189 non-null   int64         \n",
            " 1   producto     1189 non-null   object        \n",
            " 2   precio       1189 non-null   float64       \n",
            " 3   cantidad     1189 non-null   float64       \n",
            " 4   fecha_venta  1189 non-null   datetime64[ns]\n",
            " 5   categoria    1189 non-null   object        \n",
            " 6   venta_total  1189 non-null   float64       \n",
            "dtypes: datetime64[ns](1), float64(3), int64(1), object(2)\n",
            "memory usage: 74.3+ KB\n",
            "None\n",
            "\n",
            "ESTADÍSTICAS DESCRIPTIVAS - VENTAS:\n",
            "            precio     cantidad  venta_total\n",
            "count  1189.000000  1189.000000  1189.000000\n",
            "mean     74.795837     6.577796   490.308848\n",
            "std      28.841778     3.468479   336.598834\n",
            "min      26.000000     1.000000    27.830000\n",
            "25%      49.300000     4.000000   216.940000\n",
            "50%      73.890000     7.000000   418.330000\n",
            "75%     100.540000    10.000000   708.890000\n",
            "max     124.970000    12.000000  1488.120000\n"
          ]
        }
      ]
    },
    {
      "cell_type": "markdown",
      "source": [
        "Calidad de Datos:\n",
        "1. Defino una función para analizar la calidad de los datos por datasets.\n",
        "2. Aplico el análisis a cada dataset."
      ],
      "metadata": {
        "id": "lMTrhBeczNrM"
      }
    },
    {
      "cell_type": "code",
      "source": [
        "print(\"✅ CALIDAD DE DATOS\")\n",
        "print(\"=\" * 40)\n",
        "\n",
        "print(\"ANÁLISIS DE CALIDAD POR DATASET:\")\n",
        "print(\"=\" * 40)\n",
        "\n",
        "\n",
        "def analizar_calidad(df, nombre):\n",
        "    print(f\"\\n📊 {nombre.upper()}:\")\n",
        "    print(f\"Registros: {len(df)}\")\n",
        "    print(f\"Valores nulos: {df.isnull().sum().sum()}\")\n",
        "    print(f\"Duplicados: {df.duplicated().sum()}\")\n",
        "    if df.isnull().sum().sum() > 0:\n",
        "        print(\"Desglose de nulos:\")\n",
        "        for columna, nulos in df.isnull().sum().items():\n",
        "            if nulos > 0:\n",
        "                print(f\"  - {columna}: {nulos} nulos\")\n",
        "\n",
        "\n",
        "analizar_calidad(ventas_df, \"ventas\")\n",
        "analizar_calidad(clientes_df, \"clientes\")\n",
        "analizar_calidad(marketing_df, \"marketing\")\n"
      ],
      "metadata": {
        "colab": {
          "base_uri": "https://localhost:8080/"
        },
        "id": "xMIqLjQKzJv-",
        "outputId": "8d5a4dff-d57d-4082-9444-cff1f5adca4e"
      },
      "execution_count": 29,
      "outputs": [
        {
          "output_type": "stream",
          "name": "stdout",
          "text": [
            "✅ CALIDAD DE DATOS\n",
            "========================================\n",
            "ANÁLISIS DE CALIDAD POR DATASET:\n",
            "========================================\n",
            "\n",
            "📊 VENTAS:\n",
            "Registros: 1189\n",
            "Valores nulos: 0\n",
            "Duplicados: 35\n",
            "\n",
            "📊 CLIENTES:\n",
            "Registros: 567\n",
            "Valores nulos: 0\n",
            "Duplicados: 0\n",
            "\n",
            "📊 MARKETING:\n",
            "Registros: 90\n",
            "Valores nulos: 0\n",
            "Duplicados: 0\n"
          ]
        }
      ]
    },
    {
      "cell_type": "markdown",
      "source": [
        "## 🔹 ETAPA 2: PREPROCESAMIENTO Y LIMPIEZA DE DATOS"
      ],
      "metadata": {
        "id": "ptn6eAof0eVg"
      }
    },
    {
      "cell_type": "markdown",
      "source": [
        "Limpieza de datos:\n",
        "\n",
        "1. Hacemos copias de los datasets originales parar preservar los datos.\n",
        "2. Eliminamos los duplicados.\n",
        "3. Limpiamos caracteres no deseados en columnas de texto.\n",
        "4. Verificamos y limpiamos datos atípicos en precios y cantidades.\n",
        "5. Eliminamos registros con precios o cantidades inválidas.\n",
        "6. El sistema muestra los registros finales luego de la limpieza y la reducción total.\n",
        "7. El sistema muestra la documentación del proceso"
      ],
      "metadata": {
        "id": "kLHIuhGp1Ft5"
      }
    },
    {
      "cell_type": "code",
      "source": [
        "print(\"LIMPIEZA DE DATOS\")\n",
        "print(\"=\" * 45)\n",
        "\n",
        "print(\"INICIANDO PROCESO DE LIMPIEZA...\")\n",
        "\n",
        "\n",
        "ventas_clean = ventas_df.copy()\n",
        "clientes_clean = clientes_df.copy()\n",
        "marketing_clean = marketing_df.copy()\n",
        "\n",
        "print(f\"📊 Datasets originales copiados para preservar datos originales\")\n",
        "\n",
        "\n",
        "registros_antes_ventas = len(ventas_clean)\n",
        "ventas_clean = ventas_clean.drop_duplicates()\n",
        "registros_despues_ventas = len(ventas_clean)\n",
        "\n",
        "print(f\"✅ Duplicados eliminados en ventas: {registros_antes_ventas - registros_despues_ventas}\")\n",
        "\n",
        "\n",
        "columnas_texto_ventas = ['producto', 'categoria']\n",
        "for columna in columnas_texto_ventas:\n",
        "    if columna in ventas_clean.columns:\n",
        "        ventas_clean[columna] = ventas_clean[columna].str.strip()\n",
        "        print(f\"✅ Columna '{columna}' limpiada\")\n",
        "\n",
        "\n",
        "precios_anomalos = ventas_clean[(ventas_clean['precio'] <= 0) | (ventas_clean['precio'] > 1000)]\n",
        "cantidades_anomalas = ventas_clean[ventas_clean['cantidad'] <= 0]\n",
        "\n",
        "print(f\"⚠️ Precios anómalos detectados: {len(precios_anomalos)}\")\n",
        "print(f\"⚠️ Cantidades anómalas detectadas: {len(cantidades_anomalas)}\")\n",
        "\n",
        "\n",
        "ventas_clean = ventas_clean[(ventas_clean['precio'] > 0) & (ventas_clean['cantidad'] > 0)]\n",
        "\n",
        "print(f\"📊 REGISTROS FINALES DESPUÉS DE LIMPIEZA: {len(ventas_clean)}\")\n",
        "print(f\"📈 REDUCCIÓN TOTAL: {registros_antes_ventas - len(ventas_clean)} registros eliminados\")\n",
        "\n",
        "print(\"\\n📋 DOCUMENTACIÓN DEL PROCESO:\")\n",
        "print(\"- Eliminación de duplicados \")\n",
        "print(\"- Limpieza de espacios en texto \")\n",
        "print(\"- Filtrado de precios y cantidades inválidas \")\n",
        "print(\"- Preservación de datos originales \")"
      ],
      "metadata": {
        "colab": {
          "base_uri": "https://localhost:8080/"
        },
        "id": "4j5DtLXi1O6O",
        "outputId": "e6ba1d10-45d7-47e5-dd6c-085f67688029"
      },
      "execution_count": 30,
      "outputs": [
        {
          "output_type": "stream",
          "name": "stdout",
          "text": [
            "LIMPIEZA DE DATOS\n",
            "=============================================\n",
            "INICIANDO PROCESO DE LIMPIEZA...\n",
            "📊 Datasets originales copiados para preservar datos originales\n",
            "✅ Duplicados eliminados en ventas: 35\n",
            "✅ Columna 'producto' limpiada\n",
            "✅ Columna 'categoria' limpiada\n",
            "⚠️ Precios anómalos detectados: 0\n",
            "⚠️ Cantidades anómalas detectadas: 0\n",
            "📊 REGISTROS FINALES DESPUÉS DE LIMPIEZA: 1154\n",
            "📈 REDUCCIÓN TOTAL: 35 registros eliminados\n",
            "\n",
            "📋 DOCUMENTACIÓN DEL PROCESO:\n",
            "- Eliminación de duplicados \n",
            "- Limpieza de espacios en texto \n",
            "- Filtrado de precios y cantidades inválidas \n",
            "- Preservación de datos originales \n"
          ]
        }
      ]
    },
    {
      "cell_type": "markdown",
      "source": [
        "Transformación - Productos Alto Rendimiento:\n",
        "1. Ver código\n"
      ],
      "metadata": {
        "id": "ErIQBJnE28pI"
      }
    },
    {
      "cell_type": "code",
      "source": [
        "print(\"\\n🚀 TRANSFORMACIÓN - PRODUCTOS ALTO RENDIMIENTO\")\n",
        "print(\"=\" * 60)\n",
        "\n",
        "print(\"IDENTIFICANDO PRODUCTOS DE ALTO RENDIMIENTO...\")\n",
        "\n",
        "# Calcular métricas por producto\n",
        "rendimiento_productos = ventas_clean.groupby('producto').agg({\n",
        "    'cantidad': 'sum',\n",
        "    'venta_total': 'sum',\n",
        "    'id_venta': 'count'\n",
        "}).rename(columns={'id_venta': 'transacciones'})\n",
        "\n",
        "# Ordenar por venta total (descendente)\n",
        "rendimiento_productos = rendimiento_productos.sort_values('venta_total', ascending=False)\n",
        "\n",
        "print(\"📈 RENDIMIENTO DE TODOS LOS PRODUCTOS:\")\n",
        "print(rendimiento_productos)\n",
        "\n",
        "# Definir productos de alto rendimiento (top 50% por ventas)\n",
        "umbral_alto_rendimiento = rendimiento_productos['venta_total'].quantile(0.5)\n",
        "productos_alto_rendimiento = rendimiento_productos[rendimiento_productos['venta_total'] > umbral_alto_rendimiento]\n",
        "\n",
        "print(f\"\\n🎯 PRODUCTOS DE ALTO RENDIMIENTO (umbral: ${umbral_alto_rendimiento:.2f}):\")\n",
        "print(productos_alto_rendimiento)\n",
        "\n",
        "# Filtrar dataset original para solo productos de alto rendimiento\n",
        "ventas_alto_rendimiento = ventas_clean[ventas_clean['producto'].isin(productos_alto_rendimiento.index)]\n",
        "\n",
        "print(f\"\\n📊 RESUMEN FINAL:\")\n",
        "print(f\"• Total productos analizados: {len(rendimiento_productos)}\")\n",
        "print(f\"• Productos de alto rendimiento: {len(productos_alto_rendimiento)}\")\n",
        "print(f\"• Ventas de alto rendimiento: {len(ventas_alto_rendimiento)} registros\")\n",
        "print(f\"• Porcentaje de productos de alto rendimiento: {(len(productos_alto_rendimiento)/len(rendimiento_productos))*100:.1f}%\")\n",
        "\n",
        "# Mostrar tabla final de productos de alto rendimiento\n",
        "print(\"\\n🛒 TABLA DE VENTAS - PRODUCTOS ALTO RENDIMIENTO:\")\n",
        "print(ventas_alto_rendimiento.head(10))"
      ],
      "metadata": {
        "colab": {
          "base_uri": "https://localhost:8080/"
        },
        "id": "NYfRlRgm3IIF",
        "outputId": "05d33f25-60df-4a1e-8e02-d5001007afb5"
      },
      "execution_count": 31,
      "outputs": [
        {
          "output_type": "stream",
          "name": "stdout",
          "text": [
            "\n",
            "🚀 TRANSFORMACIÓN - PRODUCTOS ALTO RENDIMIENTO\n",
            "============================================================\n",
            "IDENTIFICANDO PRODUCTOS DE ALTO RENDIMIENTO...\n",
            "📈 RENDIMIENTO DE TODOS LOS PRODUCTOS:\n",
            "                        cantidad  venta_total  transacciones\n",
            "producto                                                    \n",
            "Auriculares                365.0     30834.01             53\n",
            "Lámpara de mesa            410.0     30479.14             61\n",
            "Microondas                 307.0     25593.56             46\n",
            "Batidora                   315.0     22358.79             45\n",
            "SmartWatch                 294.0     22247.37             44\n",
            "Plancha de vapor           317.0     21761.04             45\n",
            "Smartphone                 243.0     21180.96             40\n",
            "Cafetera                   284.0     21134.47             42\n",
            "Elementos de cerámica      255.0     21099.14             37\n",
            "Proyector                  280.0     20728.29             41\n",
            "Cuadro decorativo          287.0     20720.84             38\n",
            "Secadora                   291.0     20542.04             40\n",
            "Adorno de pared            286.0     20200.84             43\n",
            "Jarrón decorativo          284.0     20161.69             41\n",
            "Cortinas                   265.0     19995.89             45\n",
            "Consola de videojuegos     248.0     19290.88             36\n",
            "Aspiradora                 250.0     19209.97             41\n",
            "Laptop                     230.0     18615.54             39\n",
            "Rincón de plantas          271.0     18460.93             42\n",
            "Lavadora                   255.0     18399.03             38\n",
            "Alfombra                   248.0     18140.87             42\n",
            "Horno eléctrico            253.0     17620.72             36\n",
            "Espejo decorativo          249.0     16844.81             41\n",
            "Televisor                  218.0     16663.50             35\n",
            "Freidora eléctrica         221.0     16620.78             37\n",
            "Cámara digital             196.0     13348.22             32\n",
            "Parlantes Bluetooth        171.0     13078.45             27\n",
            "Heladera                   119.0      9305.17             17\n",
            "Tablet                     141.0      8869.23             21\n",
            "Candelabro                  59.0      3521.64              9\n",
            "\n",
            "🎯 PRODUCTOS DE ALTO RENDIMIENTO (umbral: $19643.39):\n",
            "                       cantidad  venta_total  transacciones\n",
            "producto                                                   \n",
            "Auriculares               365.0     30834.01             53\n",
            "Lámpara de mesa           410.0     30479.14             61\n",
            "Microondas                307.0     25593.56             46\n",
            "Batidora                  315.0     22358.79             45\n",
            "SmartWatch                294.0     22247.37             44\n",
            "Plancha de vapor          317.0     21761.04             45\n",
            "Smartphone                243.0     21180.96             40\n",
            "Cafetera                  284.0     21134.47             42\n",
            "Elementos de cerámica     255.0     21099.14             37\n",
            "Proyector                 280.0     20728.29             41\n",
            "Cuadro decorativo         287.0     20720.84             38\n",
            "Secadora                  291.0     20542.04             40\n",
            "Adorno de pared           286.0     20200.84             43\n",
            "Jarrón decorativo         284.0     20161.69             41\n",
            "Cortinas                  265.0     19995.89             45\n",
            "\n",
            "📊 RESUMEN FINAL:\n",
            "• Total productos analizados: 30\n",
            "• Productos de alto rendimiento: 15\n",
            "• Ventas de alto rendimiento: 661 registros\n",
            "• Porcentaje de productos de alto rendimiento: 50.0%\n",
            "\n",
            "🛒 TABLA DE VENTAS - PRODUCTOS ALTO RENDIMIENTO:\n",
            "    id_venta           producto  precio  cantidad fecha_venta  \\\n",
            "0        792  Cuadro decorativo   69.94       5.0  2024-02-01   \n",
            "1        811    Lámpara de mesa  105.10       5.0  2024-02-01   \n",
            "2       1156           Secadora   97.96       3.0  2024-02-01   \n",
            "4       1546           Secadora  106.21       4.0  2024-02-01   \n",
            "6       1710   Plancha de vapor   65.43       2.0  2024-02-01   \n",
            "7       2959          Proyector   88.17       9.0  2024-02-01   \n",
            "13      2769          Proyector   43.62      11.0  2024-03-01   \n",
            "16       446           Cortinas   62.10       4.0  2024-04-01   \n",
            "17       630    Adorno de pared   71.99       9.0  2024-04-01   \n",
            "18       794  Jarrón decorativo   96.97       7.0  2024-04-01   \n",
            "\n",
            "            categoria  venta_total  \n",
            "0          Decoración       349.70  \n",
            "1          Decoración       525.50  \n",
            "2   Electrodomésticos       293.88  \n",
            "4   Electrodomésticos       424.84  \n",
            "6   Electrodomésticos       130.86  \n",
            "7         Electrónica       793.53  \n",
            "13        Electrónica       479.82  \n",
            "16         Decoración       248.40  \n",
            "17         Decoración       647.91  \n",
            "18         Decoración       678.79  \n"
          ]
        }
      ]
    },
    {
      "cell_type": "markdown",
      "source": [
        "Agregación por categoria:\n",
        "1.  Ver código"
      ],
      "metadata": {
        "id": "7aBTAH8o4x4W"
      }
    },
    {
      "cell_type": "code",
      "source": [
        "# ETAPA 2 - ACTIVIDAD 3: AGREGACIÓN POR CATEGORÍA\n",
        "print(\"\\n📦 ACTIVIDAD 3: AGREGACIÓN POR CATEGORÍA\")\n",
        "print(\"=\" * 45)\n",
        "\n",
        "print(\"CALCULANDO VENTAS AGRUPADAS POR CATEGORÍA...\")\n",
        "\n",
        "# Agregación de ventas por categoría\n",
        "ventas_por_categoria = ventas_clean.groupby('categoria').agg({\n",
        "    'venta_total': ['sum', 'mean', 'count'],\n",
        "    'cantidad': 'sum',\n",
        "    'precio': 'mean'\n",
        "}).round(2)\n",
        "\n",
        "# Renombrar columnas para mayor claridad\n",
        "ventas_por_categoria.columns = [\n",
        "    'venta_total_sum',\n",
        "    'venta_promedio',\n",
        "    'transacciones',\n",
        "    'cantidad_total',\n",
        "    'precio_promedio'\n",
        "]\n",
        "\n",
        "# Ordenar por venta total (descendente)\n",
        "ventas_por_categoria = ventas_por_categoria.sort_values('venta_total_sum', ascending=False)\n",
        "\n",
        "print(\"📊 VENTAS POR CATEGORÍA - RESUMEN COMPLETO:\")\n",
        "print(ventas_por_categoria)\n",
        "\n",
        "# Análisis detallado por categoría\n",
        "print(\"\\n🏆 ANÁLISIS DETALLADO POR CATEGORÍA:\")\n",
        "print(\"=\" * 40)\n",
        "\n",
        "for categoria, datos in ventas_por_categoria.iterrows():\n",
        "    print(f\"\\n📁 {categoria.upper()}:\")\n",
        "    print(f\"   • Ventas totales: ${datos['venta_total_sum']:.2f}\")\n",
        "    print(f\"   • Transacciones: {datos['transacciones']}\")\n",
        "    print(f\"   • Cantidad vendida: {datos['cantidad_total']} unidades\")\n",
        "    print(f\"   • Venta promedio: ${datos['venta_promedio']:.2f}\")\n",
        "    print(f\"   • Precio promedio: ${datos['precio_promedio']:.2f}\")\n",
        "\n",
        "# Categoría líder\n",
        "categoria_lider = ventas_por_categoria.iloc[0]\n",
        "print(f\"\\n🎯 CATEGORÍA LÍDER: {ventas_por_categoria.index[0]}\")\n",
        "print(f\"   • Contribución: {(categoria_lider['venta_total_sum']/ventas_por_categoria['venta_total_sum'].sum())*100:.1f}% del total\")\n",
        "print(f\"   • Estrategia: Focus en productos de {ventas_por_categoria.index[0]} para maximizar ingresos\")"
      ],
      "metadata": {
        "colab": {
          "base_uri": "https://localhost:8080/"
        },
        "id": "IE0TgCoF4unU",
        "outputId": "ca3a2af6-c7ce-4e40-b661-f17c68e9eb7a"
      },
      "execution_count": 32,
      "outputs": [
        {
          "output_type": "stream",
          "name": "stdout",
          "text": [
            "\n",
            "📦 ACTIVIDAD 3: AGREGACIÓN POR CATEGORÍA\n",
            "=============================================\n",
            "CALCULANDO VENTAS AGRUPADAS POR CATEGORÍA...\n",
            "📊 VENTAS POR CATEGORÍA - RESUMEN COMPLETO:\n",
            "                   venta_total_sum  venta_promedio  transacciones  \\\n",
            "categoria                                                           \n",
            "Electrodomésticos        192545.57          497.53            387   \n",
            "Decoración               189625.79          475.25            399   \n",
            "Electrónica              184856.45          502.33            368   \n",
            "\n",
            "                   cantidad_total  precio_promedio  \n",
            "categoria                                           \n",
            "Electrodomésticos          2612.0            74.36  \n",
            "Decoración                 2614.0            72.86  \n",
            "Electrónica                2386.0            77.32  \n",
            "\n",
            "🏆 ANÁLISIS DETALLADO POR CATEGORÍA:\n",
            "========================================\n",
            "\n",
            "📁 ELECTRODOMÉSTICOS:\n",
            "   • Ventas totales: $192545.57\n",
            "   • Transacciones: 387.0\n",
            "   • Cantidad vendida: 2612.0 unidades\n",
            "   • Venta promedio: $497.53\n",
            "   • Precio promedio: $74.36\n",
            "\n",
            "📁 DECORACIÓN:\n",
            "   • Ventas totales: $189625.79\n",
            "   • Transacciones: 399.0\n",
            "   • Cantidad vendida: 2614.0 unidades\n",
            "   • Venta promedio: $475.25\n",
            "   • Precio promedio: $72.86\n",
            "\n",
            "📁 ELECTRÓNICA:\n",
            "   • Ventas totales: $184856.45\n",
            "   • Transacciones: 368.0\n",
            "   • Cantidad vendida: 2386.0 unidades\n",
            "   • Venta promedio: $502.33\n",
            "   • Precio promedio: $77.32\n",
            "\n",
            "🎯 CATEGORÍA LÍDER: Electrodomésticos\n",
            "   • Contribución: 34.0% del total\n",
            "   • Estrategia: Focus en productos de Electrodomésticos para maximizar ingresos\n"
          ]
        }
      ]
    },
    {
      "cell_type": "markdown",
      "source": [
        "Integración de datos:\n",
        "\n",
        "1. Ver código"
      ],
      "metadata": {
        "id": "_DpsNTfQ44oX"
      }
    },
    {
      "cell_type": "code",
      "source": [
        "# ETAPA 2 - ACTIVIDAD 4: INTEGRACIÓN DE DATOS (VERSIÓN CORREGIDA)\n",
        "print(\"\\n🔗 ACTIVIDAD 4: INTEGRACIÓN DE DATOS - CORREGIDA\")\n",
        "print(\"=\" * 50)\n",
        "\n",
        "print(\"COMBINANDO DATASETS DE VENTAS Y MARKETING...\")\n",
        "\n",
        "# Primero, verificar y limpiar los nombres de columnas en marketing\n",
        "marketing_clean.columns = marketing_clean.columns.str.strip()\n",
        "print(\"📢 COLUMNAS EN MARKETING (después de limpiar):\")\n",
        "print(marketing_clean.columns.tolist())\n",
        "\n",
        "# Integrar ventas con marketing por producto\n",
        "ventas_marketing = pd.merge(\n",
        "    ventas_clean,\n",
        "    marketing_clean,\n",
        "    on='producto',\n",
        "    how='left'  # Mantener todas las ventas aunque no tengan campaña\n",
        ")\n",
        "\n",
        "print(f\"\\n✅ INTEGRACIÓN COMPLETADA:\")\n",
        "print(f\"   • Registros antes: {len(ventas_clean)}\")\n",
        "print(f\"   • Registros después: {len(ventas_marketing)}\")\n",
        "\n",
        "# Contar registros con campaña usando el nombre correcto de columna\n",
        "if 'id_campanha' in ventas_marketing.columns:\n",
        "    registros_con_campania = ventas_marketing['id_campanha'].notna().sum()\n",
        "    print(f\"   • Registros con campaña: {registros_con_campania}\")\n",
        "    print(f\"   • Registros sin campaña: {len(ventas_marketing) - registros_con_campania}\")\n",
        "else:\n",
        "    print(\"   ⚠️ No se encontró la columna 'id_campanha'\")\n",
        "\n",
        "# Análisis de efectividad por canal de marketing\n",
        "print(\"\\n📊 EFECTIVIDAD POR CANAL DE MARKETING:\")\n",
        "print(\"=\" * 45)\n",
        "\n",
        "if 'canal' in ventas_marketing.columns:\n",
        "    # Filtrar solo los registros que tienen campaña de marketing\n",
        "    ventas_con_marketing = ventas_marketing[ventas_marketing['id_campanha'].notna()]\n",
        "\n",
        "    if not ventas_con_marketing.empty:\n",
        "        efectividad_canal = ventas_con_marketing.groupby('canal').agg({\n",
        "            'venta_total': 'sum',\n",
        "            'cantidad': 'sum',\n",
        "            'id_venta': 'count',\n",
        "            'costo': 'mean'\n",
        "        }).rename(columns={\n",
        "            'id_venta': 'transacciones',\n",
        "            'costo': 'costo_promedio'\n",
        "        }).round(2)\n",
        "\n",
        "        # Calcular ROI aproximado (si hay datos de costo)\n",
        "        if 'costo_promedio' in efectividad_canal.columns:\n",
        "            efectividad_canal['roi_aproximado'] = (efectividad_canal['venta_total'] / efectividad_canal['costo_promedio']).round(2)\n",
        "\n",
        "        print(efectividad_canal)\n",
        "\n",
        "        # Identificar canal más efectivo\n",
        "        if not efectividad_canal.empty:\n",
        "            canal_mas_ventas = efectividad_canal['venta_total'].idxmax()\n",
        "            print(f\"\\n🎯 CANAL MÁS EFECTIVO EN VENTAS: {canal_mas_ventas}\")\n",
        "            print(f\"   • Ventas generadas: ${efectividad_canal.loc[canal_mas_ventas, 'venta_total']:.2f}\")\n",
        "\n",
        "            if 'roi_aproximado' in efectividad_canal.columns:\n",
        "                canal_mas_roi = efectividad_canal['roi_aproximado'].idxmax()\n",
        "                roi_maximo = efectividad_canal['roi_aproximado'].max()\n",
        "                print(f\"   • Canal con mejor ROI: {canal_mas_roi} (ROI: {roi_maximo:.2f})\")\n",
        "    else:\n",
        "        print(\"ℹ️ No hay registros con campañas de marketing para analizar\")\n",
        "else:\n",
        "    print(\"ℹ️ No se encontró información de canales en el dataset combinado\")\n",
        "\n",
        "# Mostrar muestra del dataset integrado\n",
        "print(\"\\n🔍 MUESTRA DEL DATASET INTEGRADO (VENTAS + MARKETING):\")\n",
        "columnas_interes = ['producto', 'precio', 'cantidad', 'venta_total']\n",
        "if 'canal' in ventas_marketing.columns:\n",
        "    columnas_interes.append('canal')\n",
        "if 'costo' in ventas_marketing.columns:\n",
        "    columnas_interes.append('costo')\n",
        "\n",
        "columnas_disponibles = [col for col in columnas_interes if col in ventas_marketing.columns]\n",
        "print(ventas_marketing[columnas_disponibles].head(10))\n",
        "\n",
        "# Análisis adicional: Porcentaje de productos con campaña de marketing\n",
        "print(f\"\\n📈 ESTADÍSTICAS DE COBERTURA DE MARKETING:\")\n",
        "productos_con_marketing = ventas_marketing[ventas_marketing['id_campanha'].notna()]['producto'].nunique()\n",
        "total_productos = ventas_marketing['producto'].nunique()\n",
        "porcentaje_cobertura = (productos_con_marketing / total_productos) * 100\n",
        "\n",
        "print(f\"   • Productos con campañas: {productos_con_marketing}/{total_productos}\")\n",
        "print(f\"   • Cobertura de marketing: {porcentaje_cobertura:.1f}%\")"
      ],
      "metadata": {
        "colab": {
          "base_uri": "https://localhost:8080/"
        },
        "id": "KcXllB715A7z",
        "outputId": "0831b5c2-a8e9-48bf-931d-c2bfff135098"
      },
      "execution_count": 33,
      "outputs": [
        {
          "output_type": "stream",
          "name": "stdout",
          "text": [
            "\n",
            "🔗 ACTIVIDAD 4: INTEGRACIÓN DE DATOS - CORREGIDA\n",
            "==================================================\n",
            "COMBINANDO DATASETS DE VENTAS Y MARKETING...\n",
            "📢 COLUMNAS EN MARKETING (después de limpiar):\n",
            "['id_campanha', 'producto', 'canal', 'costo', 'fecha_inicio', 'fecha_fin']\n",
            "\n",
            "✅ INTEGRACIÓN COMPLETADA:\n",
            "   • Registros antes: 1154\n",
            "   • Registros después: 3462\n",
            "   • Registros con campaña: 3462\n",
            "   • Registros sin campaña: 0\n",
            "\n",
            "📊 EFECTIVIDAD POR CANAL DE MARKETING:\n",
            "=============================================\n",
            "       venta_total  cantidad  transacciones  costo_promedio  roi_aproximado\n",
            "canal                                                                      \n",
            "Email    567027.81    7612.0           1154            4.85       116912.95\n",
            "RRSS     567027.81    7612.0           1154            5.08       111619.65\n",
            "TV       567027.81    7612.0           1154            5.00       113405.56\n",
            "\n",
            "🎯 CANAL MÁS EFECTIVO EN VENTAS: Email\n",
            "   • Ventas generadas: $567027.81\n",
            "   • Canal con mejor ROI: Email (ROI: 116912.95)\n",
            "\n",
            "🔍 MUESTRA DEL DATASET INTEGRADO (VENTAS + MARKETING):\n",
            "            producto  precio  cantidad  venta_total  canal  costo\n",
            "0  Cuadro decorativo   69.94       5.0       349.70   RRSS   5.27\n",
            "1  Cuadro decorativo   69.94       5.0       349.70  Email   5.28\n",
            "2  Cuadro decorativo   69.94       5.0       349.70     TV   5.30\n",
            "3    Lámpara de mesa  105.10       5.0       525.50  Email   5.54\n",
            "4    Lámpara de mesa  105.10       5.0       525.50   RRSS   5.88\n",
            "5    Lámpara de mesa  105.10       5.0       525.50     TV   4.51\n",
            "6           Secadora   97.96       3.0       293.88   RRSS   5.10\n",
            "7           Secadora   97.96       3.0       293.88     TV   5.69\n",
            "8           Secadora   97.96       3.0       293.88  Email   3.80\n",
            "9           Heladera  114.35       8.0       914.80  Email   4.20\n",
            "\n",
            "📈 ESTADÍSTICAS DE COBERTURA DE MARKETING:\n",
            "   • Productos con campañas: 30/30\n",
            "   • Cobertura de marketing: 100.0%\n"
          ]
        }
      ]
    },
    {
      "cell_type": "markdown",
      "source": [
        "VER CÓDIGO"
      ],
      "metadata": {
        "id": "h-qKpzpd5wU5"
      }
    },
    {
      "cell_type": "code",
      "source": [
        "# RESUMEN EJECUTIVO DE LA ETAPA 2\n",
        "print(\"\\n🎯 RESUMEN EJECUTIVO - ETAPA 2 COMPLETADA\")\n",
        "print(\"=\" * 55)\n",
        "\n",
        "print(\"✅ PROCESOS COMPLETADOS EXITOSAMENTE:\")\n",
        "print(\"  1. 🧹 Limpieza de datos - Duplicados y valores inválidos eliminados\")\n",
        "print(\"  2. 🚀 Transformación - Productos de alto rendimiento identificados\")\n",
        "print(\"  3. 📦 Agregación - Ventas por categoría analizadas\")\n",
        "print(\"  4. 🔗 Integración - Datos de ventas y marketing combinados\")\n",
        "\n",
        "print(f\"\\n📊 MÉTRICAS FINALES:\")\n",
        "print(f\"  • Registros limpios: {len(ventas_clean)}\")\n",
        "print(f\"  • Productos alto rendimiento: {len(productos_alto_rendimiento)}\")\n",
        "print(f\"  • Categoría líder: {ventas_por_categoria.index[0]}\")\n",
        "print(f\"  • ROI marketing más alto: {efectividad_canal['roi_aproximado'].max() if 'roi_aproximado' in efectividad_canal.columns else 'N/D'}\")\n",
        "\n",
        "print(f\"\\n💡 RECOMENDACIONES ESTRATÉGICAS:\")\n",
        "print(f\"  1. Enfocar recursos en productos de {', '.join(productos_alto_rendimiento.index[:2])}\")\n",
        "print(f\"  2. Potenciar categoría {ventas_por_categoria.index[0]} para maximizar ingresos\")\n",
        "print(f\"  3. Optimizar campañas en {canal_mas_ventas if 'canal_mas_ventas' in locals() else 'canales identificados'}\")\n",
        "\n",
        "print(f\"\\n🎉 ETAPA 2 - PREPROCESAMIENTO Y LIMPIEZA COMPLETADA\")"
      ],
      "metadata": {
        "colab": {
          "base_uri": "https://localhost:8080/"
        },
        "id": "QRD0sXvK5V0o",
        "outputId": "7522d428-3dfd-4618-d100-df009c274885"
      },
      "execution_count": 34,
      "outputs": [
        {
          "output_type": "stream",
          "name": "stdout",
          "text": [
            "\n",
            "🎯 RESUMEN EJECUTIVO - ETAPA 2 COMPLETADA\n",
            "=======================================================\n",
            "✅ PROCESOS COMPLETADOS EXITOSAMENTE:\n",
            "  1. 🧹 Limpieza de datos - Duplicados y valores inválidos eliminados\n",
            "  2. 🚀 Transformación - Productos de alto rendimiento identificados\n",
            "  3. 📦 Agregación - Ventas por categoría analizadas\n",
            "  4. 🔗 Integración - Datos de ventas y marketing combinados\n",
            "\n",
            "📊 MÉTRICAS FINALES:\n",
            "  • Registros limpios: 1154\n",
            "  • Productos alto rendimiento: 15\n",
            "  • Categoría líder: Electrodomésticos\n",
            "  • ROI marketing más alto: 116912.95\n",
            "\n",
            "💡 RECOMENDACIONES ESTRATÉGICAS:\n",
            "  1. Enfocar recursos en productos de Auriculares, Lámpara de mesa\n",
            "  2. Potenciar categoría Electrodomésticos para maximizar ingresos\n",
            "  3. Optimizar campañas en Email\n",
            "\n",
            "🎉 ETAPA 2 - PREPROCESAMIENTO Y LIMPIEZA COMPLETADA\n"
          ]
        }
      ]
    },
    {
      "cell_type": "markdown",
      "source": [
        "Anexo:"
      ],
      "metadata": {
        "id": "dTqQR3lxBLyh"
      }
    },
    {
      "cell_type": "code",
      "source": [
        "# Reemplazar tu celda de anexo con esta versión más completa\n",
        "print(\"📎 ANEXO - DOCUMENTACIÓN COMPLETA\")\n",
        "print(\"=\" * 35)\n",
        "\n",
        "print(\"\\n🔗 ENLACE A CARPETA DE GOOGLE DRIVE:\")\n",
        "print(\"https://drive.google.com/drive/folders/[TU_ID_CARPETA]\")\n",
        "\n",
        "print(\"\\n📁 CONTENIDO DE LA CARPETA:\")\n",
        "print(\"1. ventas.csv - Dataset original de transacciones comerciales\")\n",
        "print(\"2. clientes.csv - Dataset original de información demográfica de clientes\")\n",
        "print(\"3. marketing.csv - Dataset original de campañas publicitarias\")\n",
        "print(\"4. LermanYamila-Comisión25261-TPIDataAnalytics.ipynb - Análisis completo\")\n",
        "\n",
        "print(\"\\n📊 MÉTRICAS DE PROCESAMIENTO:\")\n",
        "print(f\"• Registros procesados: {len(ventas_clean)}\")\n",
        "print(f\"• Transformaciones aplicadas: 10+\")\n",
        "print(f\"• Análisis realizados: 8 tipos diferentes\")\n",
        "\n",
        "print(\"\\n🛠️ HERRAMIENTAS UTILIZADAS:\")\n",
        "print(\"• Google Colab - Entorno de ejecución\")\n",
        "print(\"• Pandas - Manipulación de datos\")\n",
        "print(\"• NumPy - Operaciones numéricas\")\n",
        "\n",
        "print(\"\\n📞 INFORMACIÓN DEL ESTUDIANTE:\")\n",
        "print(\"• Nombre: Yamila Lerman\")\n",
        "print(\"• Comisión: 25261\")\n",
        "print(\"• Fecha de entrega: [FECHA_ACTUAL]\")"
      ],
      "metadata": {
        "colab": {
          "base_uri": "https://localhost:8080/"
        },
        "id": "CvI0Uo6tBc43",
        "outputId": "1a99e1b0-e13a-4b41-a689-55fa5a4e6e0b"
      },
      "execution_count": null,
      "outputs": [
        {
          "output_type": "stream",
          "name": "stdout",
          "text": [
            "📎 ANEXO - DOCUMENTACIÓN COMPLETA\n",
            "===================================\n",
            "\n",
            "🔗 ENLACE A CARPETA DE GOOGLE DRIVE:\n",
            "https://drive.google.com/drive/folders/[TU_ID_CARPETA]\n",
            "\n",
            "📁 CONTENIDO DE LA CARPETA:\n",
            "1. ventas.csv - Dataset original de transacciones comerciales\n",
            "2. clientes.csv - Dataset original de información demográfica de clientes\n",
            "3. marketing.csv - Dataset original de campañas publicitarias\n",
            "4. LermanYamila-Comisión25261-TPIDataAnalytics.ipynb - Análisis completo\n",
            "\n",
            "📊 MÉTRICAS DE PROCESAMIENTO:\n",
            "• Registros procesados: 3000\n",
            "• Transformaciones aplicadas: 10+\n",
            "• Análisis realizados: 8 tipos diferentes\n",
            "\n",
            "🛠️ HERRAMIENTAS UTILIZADAS:\n",
            "• Google Colab - Entorno de ejecución\n",
            "• Pandas - Manipulación de datos\n",
            "• NumPy - Operaciones numéricas\n",
            "\n",
            "📞 INFORMACIÓN DEL ESTUDIANTE:\n",
            "• Nombre: Yamila Lerman\n",
            "• Comisión: 25261\n",
            "• Fecha de entrega: [FECHA_ACTUAL]\n"
          ]
        }
      ]
    }
  ]
}